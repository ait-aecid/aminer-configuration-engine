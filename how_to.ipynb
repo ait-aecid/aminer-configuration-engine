{
 "cells": [
  {
   "cell_type": "markdown",
   "metadata": {},
   "source": [
    "# **AMiner-Configuration-Engine: Tutorial**\n",
    "\n",
    "This notebook exemplarily describes how to use the Configuration-Engine (CE)."
   ]
  },
  {
   "cell_type": "markdown",
   "metadata": {},
   "source": [
    "## Initialize CE:"
   ]
  },
  {
   "cell_type": "markdown",
   "metadata": {},
   "source": [
    "TBA"
   ]
  },
  {
   "cell_type": "code",
   "execution_count": 9,
   "metadata": {},
   "outputs": [
    {
     "data": {
      "text/plain": [
       "{'LearnMode': None,\n",
       " 'LogResourceList': None,\n",
       " 'Parser': [{'id': 'START', 'start': True, 'type': None, 'name': 'parser'}],\n",
       " 'Input': {'timestamp_paths': ['/model/time',\n",
       "   '/model/@timestamp/time',\n",
       "   '/model/with_df/time',\n",
       "   '/model/type/execve/time',\n",
       "   '/model/type/proctitle/time',\n",
       "   '/model/type/syscall/time',\n",
       "   '/model/type/path/time',\n",
       "   '/model/type/login/time',\n",
       "   '/model/type/sockaddr/time',\n",
       "   '/model/type/unknown/time',\n",
       "   '/model/type/cred_refr/time',\n",
       "   '/model/type/user_start/time',\n",
       "   '/model/type/user_acct/time',\n",
       "   '/model/type/user_auth/time',\n",
       "   '/model/type/user_login/time',\n",
       "   '/model/type/cred_disp/time',\n",
       "   '/model/type/service_start/time',\n",
       "   '/model/type/service_stop/time',\n",
       "   '/model/type/user_end/time',\n",
       "   '/model/type/user_cmd/time',\n",
       "   '/model/type/cred_acq/time',\n",
       "   '/model/type/avc/time',\n",
       "   '/model/type/user_bprm_fcaps/time',\n",
       "   '/model/datetime']},\n",
       " 'Analysis': None,\n",
       " 'EventHandlers': [{'id': 'stpefile',\n",
       "   'type': 'StreamPrinterEventHandler',\n",
       "   'json': True,\n",
       "   'pretty': False,\n",
       "   'output_file_path': '/tmp/aminer_out.json'}]}"
      ]
     },
     "execution_count": 9,
     "metadata": {},
     "output_type": "execute_result"
    }
   ],
   "source": [
    "from lib.configUtils import *\n",
    "\n",
    "load_yaml_file(\"base_config.yml\")"
   ]
  },
  {
   "cell_type": "code",
   "execution_count": 2,
   "metadata": {},
   "outputs": [
    {
     "name": "stdout",
     "output_type": "stream",
     "text": [
      "usage: main.py [-h] [-p PARSER] [-d DATA_DIR] [-id DETECTOR_IDS]\n",
      "               [-pre PREDEFINED_CONFIG_PATH] [-o OPTIMIZE]\n",
      "\n",
      "Automation process for the AMiner.\n",
      "\n",
      "optional arguments:\n",
      "  -h, --help            show this help message and exit\n",
      "  -p PARSER, --parser PARSER\n",
      "                        Type of parser.\n",
      "  -d DATA_DIR, --data_dir DATA_DIR\n",
      "                        Directory with data files. All log files in folder\n",
      "                        will be used as training data.\n",
      "  -id DETECTOR_IDS, --detector_ids DETECTOR_IDS\n",
      "                        {'1': 'NewMatchPathValueDetector', '2':\n",
      "                        'NewMatchPathValueComboDetector', '3':\n",
      "                        'CharsetDetector', '4': 'EntropyDetector', '5':\n",
      "                        'ValueRangeDetector', '6': 'EventFrequencyDetector'}\n",
      "  -pre PREDEFINED_CONFIG_PATH, --predefined_config_path PREDEFINED_CONFIG_PATH\n",
      "                        Path to a predefined configuration that should be\n",
      "                        optimized.\n",
      "  -o OPTIMIZE, --optimize OPTIMIZE\n"
     ]
    },
    {
     "data": {
      "text/plain": [
       "0"
      ]
     },
     "execution_count": 2,
     "metadata": {},
     "output_type": "execute_result"
    }
   ],
   "source": [
    "import os\n",
    "\n",
    "os.system(\"python3 main.py --help\")"
   ]
  }
 ],
 "metadata": {
  "kernelspec": {
   "display_name": "Python 3",
   "language": "python",
   "name": "python3"
  },
  "language_info": {
   "codemirror_mode": {
    "name": "ipython",
    "version": 3
   },
   "file_extension": ".py",
   "mimetype": "text/x-python",
   "name": "python",
   "nbconvert_exporter": "python",
   "pygments_lexer": "ipython3",
   "version": "3.8.10"
  },
  "orig_nbformat": 4
 },
 "nbformat": 4,
 "nbformat_minor": 2
}
