{
 "cells": [
  {
   "cell_type": "code",
   "execution_count": 2,
   "metadata": {},
   "outputs": [],
   "source": [
    "from lib.ConfigurationEngine import ConfigurationEngine"
   ]
  },
  {
   "cell_type": "code",
   "execution_count": 3,
   "metadata": {},
   "outputs": [
    {
     "name": "stdout",
     "output_type": "stream",
     "text": [
      "\n",
      "------------------------- DATA EXTRACTION -------------------------\n",
      "Retrieved previously parsed data.\n",
      "Data extraction finished. (runtime: 0.08s)\n",
      "\n",
      "-------------------------- CONFIGURATION --------------------------\n",
      "Configuring NewMatchPathValueDetector ...\n",
      "Configuring NewMatchPathValueComboDetector ...\n",
      "Configuring EntropyDetector ...\n",
      "Configuration finished. (runtime: 49.682s)\n",
      "\n",
      "-------------------------- OPTIMIZATION ---------------------------\n",
      "(running in Jupyter notebook)\n"
     ]
    },
    {
     "name": "stderr",
     "output_type": "stream",
     "text": [
      "Optimizing configuration: 100%|███████████████████████████████| 3/3 [00:20<00:00,  6.67s/data split]"
     ]
    },
    {
     "name": "stdout",
     "output_type": "stream",
     "text": [
      "Optimization finished. (runtime: 24.053s)\n",
      "\n",
      "Configuration file saved to: /home/viktor/projects/aecid/aminer-configuration-engine/output/NewMatchPathValueDetector_NewMatchPathValueComboDetector_EntropyDetector/ApacheAccessParsingModel/CE_19563_samples/config.yaml\n"
     ]
    },
    {
     "name": "stderr",
     "output_type": "stream",
     "text": [
      "\n"
     ]
    }
   ],
   "source": [
    "configurator = ConfigurationEngine(\n",
    "    data_dir=\"data\",\n",
    "    parser_name=\"ApacheAccessParsingModel\",\n",
    "    optimize=True,\n",
    "    detector_ids=\"1,2,4\"\n",
    ")\n",
    "\n",
    "config = configurator.create_config()"
   ]
  },
  {
   "cell_type": "code",
   "execution_count": 6,
   "metadata": {},
   "outputs": [
    {
     "data": {
      "text/plain": [
       "[{'type': 'NewMatchPathValueDetector',\n",
       "  'id': 'NewMatchPathValueDetector_Stable_id0',\n",
       "  'persistence_id': 'NewMatchPathValueDetector_Stable_id0',\n",
       "  'paths': ['/model/client_ip/client_ip'],\n",
       "  'output_logline': True},\n",
       " {'type': 'NewMatchPathValueDetector',\n",
       "  'id': 'NewMatchPathValueDetector_Stable_id1',\n",
       "  'persistence_id': 'NewMatchPathValueDetector_Stable_id1',\n",
       "  'paths': ['/model/status_code'],\n",
       "  'output_logline': True},\n",
       " {'type': 'NewMatchPathValueDetector',\n",
       "  'id': 'NewMatchPathValueDetector_Stable_id2',\n",
       "  'persistence_id': 'NewMatchPathValueDetector_Stable_id2',\n",
       "  'paths': ['/model/combined'],\n",
       "  'output_logline': True},\n",
       " {'type': 'NewMatchPathValueDetector',\n",
       "  'id': 'NewMatchPathValueDetector_Stable_id3',\n",
       "  'persistence_id': 'NewMatchPathValueDetector_Stable_id3',\n",
       "  'paths': ['/model/combined/combined'],\n",
       "  'output_logline': True},\n",
       " {'type': 'NewMatchPathValueDetector',\n",
       "  'id': 'NewMatchPathValueDetector_Stable_id4',\n",
       "  'persistence_id': 'NewMatchPathValueDetector_Stable_id4',\n",
       "  'paths': ['/model/combined/combined/referer'],\n",
       "  'output_logline': True},\n",
       " {'type': 'NewMatchPathValueDetector',\n",
       "  'id': 'NewMatchPathValueDetector_Stable_id5',\n",
       "  'persistence_id': 'NewMatchPathValueDetector_Stable_id5',\n",
       "  'paths': ['/model/combined/combined/user_agent'],\n",
       "  'output_logline': True},\n",
       " {'type': 'NewMatchPathValueDetector',\n",
       "  'id': 'NewMatchPathValueDetector_Stable_id6',\n",
       "  'persistence_id': 'NewMatchPathValueDetector_Stable_id6',\n",
       "  'paths': ['/model/fm/request/method'],\n",
       "  'output_logline': True},\n",
       " {'type': 'NewMatchPathValueDetector',\n",
       "  'id': 'NewMatchPathValueDetector_Stable_id7',\n",
       "  'persistence_id': 'NewMatchPathValueDetector_Stable_id7',\n",
       "  'paths': ['/model/fm/request/version'],\n",
       "  'output_logline': True},\n",
       " {'type': 'NewMatchPathValueComboDetector',\n",
       "  'id': 'NewMatchPathValueComboDetector_CoOccurrenceCombos_id0',\n",
       "  'persistence_id': 'NewMatchPathValueComboDetector_CoOccurrenceCombos_id0',\n",
       "  'paths': ['/model/client_ip/client_ip',\n",
       "   '/model/combined',\n",
       "   '/model/combined/combined',\n",
       "   '/model/combined/combined/referer',\n",
       "   '/model/combined/combined/user_agent',\n",
       "   '/model/fm/request/method',\n",
       "   '/model/fm/request/version',\n",
       "   '/model/status_code'],\n",
       "  'output_logline': True},\n",
       " {'type': 'EntropyDetector',\n",
       "  'id': 'EntropyDetector_CharacterPairProbability_id0',\n",
       "  'persistence_id': 'EntropyDetector_CharacterPairProbability_id0',\n",
       "  'paths': ['/model/status_code'],\n",
       "  'output_logline': True,\n",
       "  'prob_thresh': 0.204},\n",
       " {'type': 'EntropyDetector',\n",
       "  'id': 'EntropyDetector_CharacterPairProbability_id1',\n",
       "  'persistence_id': 'EntropyDetector_CharacterPairProbability_id1',\n",
       "  'paths': ['/model/fm/request/method'],\n",
       "  'output_logline': True,\n",
       "  'prob_thresh': 0.281},\n",
       " {'type': 'EntropyDetector',\n",
       "  'id': 'EntropyDetector_CharacterPairProbability_id2',\n",
       "  'persistence_id': 'EntropyDetector_CharacterPairProbability_id2',\n",
       "  'paths': ['/model/fm/request/version'],\n",
       "  'output_logline': True,\n",
       "  'prob_thresh': 0.676}]"
      ]
     },
     "metadata": {},
     "output_type": "display_data"
    }
   ],
   "source": [
    "display(config[\"Analysis\"])"
   ]
  }
 ],
 "metadata": {
  "kernelspec": {
   "display_name": "Python 3",
   "language": "python",
   "name": "python3"
  },
  "language_info": {
   "codemirror_mode": {
    "name": "ipython",
    "version": 3
   },
   "file_extension": ".py",
   "mimetype": "text/x-python",
   "name": "python",
   "nbconvert_exporter": "python",
   "pygments_lexer": "ipython3",
   "version": "3.8.10"
  },
  "orig_nbformat": 4
 },
 "nbformat": 4,
 "nbformat_minor": 2
}
